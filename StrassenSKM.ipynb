{
 "cells": [
  {
   "cell_type": "markdown",
   "metadata": {},
   "source": [
    "# 17. Метод Штрассена"
   ]
  },
  {
   "cell_type": "markdown",
   "metadata": {},
   "source": [
    "*Метод Штрассена* умножения матриц заключается в разбиении матрицы на 4 равные клетки\n",
    "$$\\left(\\begin{array}{cc}C_{11} & C_{12}   \\\\C_{21} & C_{22}   \\\\\\end{array}\\right)=\\left(\\begin{array}{cc}A_{11} & A_{12}   \\\\\n",
    "A_{21} & A_{22}   \\\\\\end{array}\\right)\\cdot\\left(\\begin{array}{cc}B_{11} & B_{12}   \\\\B_{21} & B_{22}   \\\\\\end{array}\\right)\n",
    "$$\n",
    " и нахождения\n",
    "произведения по формулам:\n",
    "$$\n",
    "\\begin{array}{l}\n",
    "D_1 = (A_{11} + A_{22}) \\cdot (B_{11} + B_{22}) \\\\\n",
    "D_2 = (A_{12} - A_{22}) \\cdot (B_{21} + B_{22}) \\\\\n",
    "D_3 = (A_{11} - A_{21}) \\cdot (B_{11} + B_{12}) \\\\\n",
    "D_4 = (A_{11} + A_{12}) \\cdot B_{22} \\\\\n",
    "D_5 = (A_{21} + A_{22}) \\cdot B_{11} \\\\\n",
    "D_6 = A_{11} \\cdot (B_{12} - B_{22}) \\\\\n",
    "D_7 = A_{22} \\cdot (-B_{11}+B_{21}) \\\\\\end{array}\n",
    "$$\n",
    "\n",
    "$$\n",
    "  \\begin{array}{l}\n",
    "    C_{11}  = D_1+D_2-D_4+D_7 ,\\\\\n",
    "    C_{12}  =D_4+D_6,\\\\\n",
    "    C_{21}  =D_5+D_7,\\\\\n",
    "    C_{22}  =D_1-D_3-D_5+D_6.\\\\\n",
    "  \\end{array}\n",
    "$$\n",
    "\n",
    "Для нахождения произведений вида $(A_{11} + A_{22}) \\cdot (B_{11} + B_{22})$ и т.п.\n",
    "рекурсивно используется тот же алгоритм."
   ]
  },
  {
   "cell_type": "markdown",
   "metadata": {},
   "source": [
    "# Необходимые библиотеки"
   ]
  },
  {
   "cell_type": "code",
   "execution_count": 248,
   "metadata": {},
   "outputs": [],
   "source": [
    "import numpy as np\n",
    "import time\n",
    "import random\n",
    "import matplotlib.pyplot as plt\n",
    "import math"
   ]
  },
  {
   "cell_type": "markdown",
   "metadata": {},
   "source": [
    "# Алгоритм Штрассена \n",
    "Алгоритм Штрессана умножения квадратных матриц порядка $n$ использует $O(n^{\\log_2 7}) = O(n^{2.8})$ операций."
   ]
  },
  {
   "cell_type": "code",
   "execution_count": 249,
   "metadata": {},
   "outputs": [],
   "source": [
    "def strassen(A,B):\n",
    "    n = A.shape[0]\n",
    "    C = np.zeros((n*n), dtype=np.float32).reshape(n,n)\n",
    "    if n == 1:\n",
    "        C[0][0] = A[0][0] * B[0][0]\n",
    "    else:\n",
    "        k = n//2\n",
    "        \n",
    "        A11,A21,A12,A22 = A[:k,:k], A[k:, :k], A[:k, k:], A[k:, k:]\n",
    "        B11,B21,B12,B22 = B[:k,:k], B[k:, :k], B[:k, k:], B[k:, k:]\n",
    "\n",
    "        S1 = B12 - B22\n",
    "        S2 = A11 + A12\n",
    "        S3 = A21 + A22\n",
    "        S4 = B21 - B11\n",
    "        S5 = A11 + A22\n",
    "        S6 = B11 + B22\n",
    "        S7 = A12 - A22\n",
    "        S8 = B21 + B22\n",
    "        S9 = A11 - A21\n",
    "        S10= B11 + B12\n",
    "\n",
    "        D1 = strassen(A11, S1)\n",
    "        D2 = strassen(S2, B22)\n",
    "        D3 = strassen(S3, B11)\n",
    "        D4 = strassen(A22, S4)\n",
    "        D5 = strassen(S5, S6)\n",
    "        D6 = strassen(S7, S8)\n",
    "        D7 = strassen(S9, S10)\n",
    "\n",
    "        C[:k,:k] = D5 + D4 - D2 + D6\n",
    "        C[:k, k:] = D1 + D2\n",
    "        C[k:, :k] = D3 + D4\n",
    "        C[k:, k:] = D5 + D1 - D3 - D7\n",
    "\n",
    "    return C"
   ]
  },
  {
   "cell_type": "markdown",
   "metadata": {},
   "source": [
    "# Обычный алгоритм умножения матриц \n",
    "\n",
    "Обычный алгоритм умножения квадратных матриц порядка $n$ использует $O(n^3)$ операций"
   ]
  },
  {
   "cell_type": "code",
   "execution_count": 250,
   "metadata": {},
   "outputs": [],
   "source": [
    "def defaultProduct(A, B):\n",
    "    n = A.shape[0]\n",
    "    C = np.zeros((n*n), dtype=np.float32).reshape(n,n)\n",
    "    if n == 1:\n",
    "        C[0][0] = A[0][0] * B[0][0]\n",
    "    else:\n",
    "        for i in range(n):\n",
    "            for k in range(n):\n",
    "                for j in range(n):\n",
    "                    C[i][j] += A[i][k] * B[k][j]\n",
    "    return C"
   ]
  },
  {
   "cell_type": "markdown",
   "metadata": {},
   "source": [
    "# Данные\n",
    "Для работы алгоритмов нужно две матрицы порядка $n = 2^k$, где $k$ пренадлежит множеству натуральных чисел $N$.\n",
    "Данная функция принимает на вход размерность массива и генерирует две квадратные матрицы размерностью $n*n$, заполняя и случайными значениями с плавающей точкой от $0$ до $1$ для повышения скорости работы алгоритмов\n"
   ]
  },
  {
   "cell_type": "code",
   "execution_count": 251,
   "metadata": {},
   "outputs": [],
   "source": [
    "def Gen(n):\n",
    "    A = np.random.uniform(0,1, size=(n,n))\n",
    "    B = np.random.uniform(0,1, size=(n,n))\n",
    "    return A, B"
   ]
  },
  {
   "cell_type": "markdown",
   "metadata": {},
   "source": [
    "# Отрисовка графиков\n",
    "Данная функция принимает на вход мерность матрицы, скорость работы алгоритма *Штрассена* и скорость работы *обычного* алгоритма умножения"
   ]
  },
  {
   "cell_type": "code",
   "execution_count": 252,
   "metadata": {},
   "outputs": [],
   "source": [
    "def Graf(n,timeStrassen,timeDefault):\n",
    "    fs = np.polyfit(n,timeStrassen,4)\n",
    "    fd = np.polyfit(n,timeDefault,4)\n",
    "    xx = np.linspace(1,2**(n.shape[0]-1),500)  \n",
    "    uu = np.linspace(1,2**(n.shape[0]-1),500)\n",
    "\n",
    "    yyS = np.polyval(fs, xx)\n",
    "    yyD = np.polyval(fd, uu)\n",
    "    \n",
    "    plt.plot(xx, yyS, color = 'tab:cyan',label='Strassen algoritm')\n",
    "    plt.plot(uu, yyD, color = 'tab:purple',label='Default algoritm')\n",
    "    plt.plot(n, timeStrassen ,'o', color = 'tab:blue')\n",
    "    plt.plot(n, timeDefault,'o', color = 'tab:green')\n",
    "    plt.grid()\n",
    "    plt.legend()\n",
    "    pass\n",
    "\n"
   ]
  },
  {
   "cell_type": "markdown",
   "metadata": {},
   "source": [
    "# Главная программа\n",
    "Здесь вызываются выше перечисленные функции. Алгоритмы вызываются в цикле, время выполнения каждого алгоритма умножения записывается в массив и после передется в **Graf** с цель отобразить полученные данные"
   ]
  },
  {
   "cell_type": "code",
   "execution_count": 253,
   "metadata": {
    "scrolled": true
   },
   "outputs": [
    {
     "name": "stdout",
     "output_type": "stream",
     "text": [
      "Done\n"
     ]
    }
   ],
   "source": [
    "\n",
    "\n",
    "\n",
    "\n",
    "\n",
    "g = 7\n",
    "timeStrassen= np.zeros((g),dtype=np.float)\n",
    "timeDefault= np.zeros((g),dtype=np.float)\n",
    "n = np.arange(g)\n",
    "l = math.log(7)/math.log(2)\n",
    "\n",
    "\n",
    "for i in range(g):\n",
    "\n",
    "    k = 2**i\n",
    "    A,B = Gen(k)\n",
    "    n[i]=k;\n",
    "    start_time=time.time()\n",
    "    C = strassen(A, B)\n",
    "    delta_time=time.time() - start_time\n",
    "    timeStrassen[i] = delta_time\n",
    "\n",
    "    start_time=time.time()\n",
    "    C = defaultProduct(A,B)\n",
    "    delta_time=time.time() - start_time\n",
    "    timeDefault[i] = delta_time\n",
    "\n",
    "print(\"Done\")\n",
    "\n",
    "\n"
   ]
  },
  {
   "cell_type": "markdown",
   "metadata": {},
   "source": [
    "# Скорость работы в зависимости от мерности матрицы"
   ]
  },
  {
   "cell_type": "code",
   "execution_count": 254,
   "metadata": {},
   "outputs": [
    {
     "data": {
      "image/png": "[encoded data removed]",
      "text/plain": [
       "<Figure size 432x288 with 1 Axes>"
      ]
     },
     "metadata": {
      "needs_background": "light"
     },
     "output_type": "display_data"
    }
   ],
   "source": [
    "Graf(n,timeStrassen,timeDefault)"
   ]
  },
  {
   "cell_type": "markdown",
   "metadata": {},
   "source": [
    "Здесь мы можем наблюдать, что алгоритм Штрассена быстрее обычного"
   ]
  },
  {
   "cell_type": "markdown",
   "metadata": {},
   "source": [
    "# ///"
   ]
  },
  {
   "cell_type": "code",
   "execution_count": 255,
   "metadata": {},
   "outputs": [
    {
     "ename": "NameError",
     "evalue": "name 'OtimeStrassen' is not defined",
     "output_type": "error",
     "traceback": [
      "\u001b[1;31m---------------------------------------------------------------------------\u001b[0m",
      "\u001b[1;31mNameError\u001b[0m                                 Traceback (most recent call last)",
      "\u001b[1;32m<ipython-input-255-5038a876e30d>\u001b[0m in \u001b[0;36m<module>\u001b[1;34m\u001b[0m\n\u001b[1;32m----> 1\u001b[1;33m \u001b[0mGraf\u001b[0m\u001b[1;33m(\u001b[0m\u001b[0mn\u001b[0m\u001b[1;33m,\u001b[0m\u001b[0mOtimeStrassen\u001b[0m\u001b[1;33m,\u001b[0m\u001b[0mOtimeDefault\u001b[0m\u001b[1;33m)\u001b[0m\u001b[1;33m\u001b[0m\u001b[1;33m\u001b[0m\u001b[0m\n\u001b[0m",
      "\u001b[1;31mNameError\u001b[0m: name 'OtimeStrassen' is not defined"
     ]
    }
   ],
   "source": [
    "Graf(n,OtimeStrassen,OtimeDefault)\n"
   ]
  },
  {
   "cell_type": "code",
   "execution_count": null,
   "metadata": {},
   "outputs": [],
   "source": []
  },
  {
   "cell_type": "code",
   "execution_count": null,
   "metadata": {},
   "outputs": [],
   "source": []
  }
 ],
 "metadata": {
  "kernelspec": {
   "display_name": "Python 3",
   "language": "python",
   "name": "python3"
  },
  "language_info": {
   "codemirror_mode": {
    "name": "ipython",
    "version": 3
   },
   "file_extension": ".py",
   "mimetype": "text/x-python",
   "name": "python",
   "nbconvert_exporter": "python",
   "pygments_lexer": "ipython3",
   "version": "3.7.6"
  }
 },
 "nbformat": 4,
 "nbformat_minor": 4
}
