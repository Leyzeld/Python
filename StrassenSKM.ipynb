{
 "cells": [
  {
   "cell_type": "code",
   "execution_count": 247,
   "metadata": {
    "scrolled": true
   },
   "outputs": [
    {
     "name": "stdout",
     "output_type": "stream",
     "text": [
      "[  1   2   4   8  16  32  64 128]\n",
      "[0.00000000e+00 0.00000000e+00 9.96828079e-04 2.99358368e-03\n",
      " 2.09789276e-02 1.35601282e-01 9.90348577e-01 6.74897766e+00]\n",
      "[0.00000000e+00 0.00000000e+00 0.00000000e+00 9.96351242e-04\n",
      " 5.98430634e-03 5.08975983e-02 4.19876099e-01 3.28218460e+00]\n"
     ]
    },
    {
     "data": {
      "image/png": "[encoded data removed]",
      "text/plain": [
       "<Figure size 432x288 with 1 Axes>"
      ]
     },
     "metadata": {
      "needs_background": "light"
     },
     "output_type": "display_data"
    }
   ],
   "source": [
    "import numpy as np\n",
    "import time\n",
    "import random\n",
    "import matplotlib.pyplot as plt\n",
    "\n",
    "def Graf(n,timeStrassen,timeDefault):\n",
    "    fs = np.polyfit(n,timeStrassen,4)\n",
    "    fd = np.polyfit(n,timeDefault,4)\n",
    "    xx = np.linspace(1,2**(n.shape[0]-1),500)  \n",
    "    uu = np.linspace(1,2**(n.shape[0]-1),500)\n",
    "\n",
    "    yyS = np.polyval(fs, xx)\n",
    "    yyD = np.polyval(fd, uu)\n",
    "    \n",
    "    plt.plot(xx, yyS, color = 'tab:cyan',label='Strassen algoritm')\n",
    "    plt.plot(uu, yyD, color = 'tab:purple',label='Default algoritm')\n",
    "    plt.plot(n, timeStrassen ,'o', color = 'tab:blue')\n",
    "    plt.plot(n, timeDefault,'o', color = 'tab:green')\n",
    "    plt.grid()\n",
    "    plt.legend()\n",
    "    pass\n",
    "\n",
    "def Gen(n):\n",
    "    A = np.random.randint(1,20, size=(n,n))\n",
    "    B = np.random.randint(1,20, size=(n,n))\n",
    "    return A, B\n",
    "\n",
    "\n",
    "\n",
    "def defaultProduct(A, B):\n",
    "    n = A.shape[0]\n",
    "    C = np.zeros((n*n), dtype=np.int).reshape(n,n)\n",
    "    if n == 1:\n",
    "        C[0][0] = A[0][0] * B[0][0]\n",
    "    else:\n",
    "        for i in range(n):\n",
    "            for k in range(n):\n",
    "                for j in range(n):\n",
    "                    C[i][j] += A[i][k] * B[k][j]\n",
    "    return C\n",
    "\n",
    "\n",
    "def strassen(A,B):\n",
    "    n = A.shape[0]\n",
    "    C = np.zeros((n*n), dtype=np.int).reshape(n,n)\n",
    "    if n == 1:\n",
    "        C[0][0] = A[0][0] * B[0][0]\n",
    "    else:\n",
    "        k = int(n/2) \n",
    "\n",
    "        A11,A21,A12,A22 = A[:k,:k], A[k:, :k], A[:k, k:], A[k:, k:]\n",
    "        B11,B21,B12,B22 = B[:k,:k], B[k:, :k], B[:k, k:], B[k:, k:]\n",
    "\n",
    "        S1 = B12 - B22\n",
    "        S2 = A11 + A12\n",
    "        S3 = A21 + A22\n",
    "        S4 = B21 - B11\n",
    "        S5 = A11 + A22\n",
    "        S6 = B11 + B22\n",
    "        S7 = A12 - A22\n",
    "        S8 = B21 + B22\n",
    "        S9 = A11 - A21\n",
    "        S10= B11 + B12\n",
    "\n",
    "        P1 = strassen(A11, S1)\n",
    "        P2 = strassen(S2, B22)\n",
    "        P3 = strassen(S3, B11)\n",
    "        P4 = strassen(A22, S4)\n",
    "        P5 = strassen(S5, S6)\n",
    "        P6 = strassen(S7, S8)\n",
    "        P7 = strassen(S9, S10)\n",
    "\n",
    "        C[:k,:k] = P5 + P4 - P2 + P6\n",
    "        C[:k, k:] = P1 + P2\n",
    "        C[k:, :k] = P3 + P4\n",
    "        C[k:, k:] = P5 + P1 - P3 - P7\n",
    "\n",
    "    return C\n",
    "\n",
    "g =8\n",
    "timeStrassen= np.zeros((g),dtype=np.float)\n",
    "timeDefault= np.zeros((g),dtype=np.float)\n",
    "n = np.arange(g)\n",
    "for i in range(g):\n",
    "\n",
    "    k = 2**i\n",
    "    A,B = Gen(k)\n",
    "    n[i]=k;\n",
    "    start_time=time.time()\n",
    "    C = strassen(A, B)\n",
    "    delta_time=time.time() - start_time\n",
    "    timeStrassen[i] = delta_time\n",
    "    #print(delta_time)\n",
    "    #print(n)\n",
    "    #print(C)\n",
    "\n",
    "\n",
    "    start_time=time.time()\n",
    "    C = defaultProduct(A,B)\n",
    "    delta_time=time.time() - start_time\n",
    "    timeDefault[i] = delta_time\n",
    "    #print(delta_time)\n",
    "    #print(C)\n",
    "    \n",
    "    \n",
    "print(n)\n",
    "print(timeStrassen)\n",
    "print(timeDefault)\n",
    "\n",
    "Graf(n,timeStrassen,timeDefault)\n",
    "\n"
   ]
  },
  {
   "cell_type": "code",
   "execution_count": null,
   "metadata": {},
   "outputs": [],
   "source": []
  },
  {
   "cell_type": "code",
   "execution_count": null,
   "metadata": {},
   "outputs": [],
   "source": []
  }
 ],
 "metadata": {
  "kernelspec": {
   "display_name": "Python 3",
   "language": "python",
   "name": "python3"
  },
  "language_info": {
   "codemirror_mode": {
    "name": "ipython",
    "version": 3
   },
   "file_extension": ".py",
   "mimetype": "text/x-python",
   "name": "python",
   "nbconvert_exporter": "python",
   "pygments_lexer": "ipython3",
   "version": "3.7.6"
  }
 },
 "nbformat": 4,
 "nbformat_minor": 4
}
